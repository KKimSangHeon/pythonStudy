{
 "cells": [
  {
   "cell_type": "code",
   "execution_count": 6,
   "metadata": {},
   "outputs": [
    {
     "name": "stderr",
     "output_type": "stream",
     "text": [
      "c:\\users\\7010master\\pycharmprojects\\untitled\\venv\\lib\\site-packages\\ipykernel_launcher.py:11: DeprecationWarning: on_trait_change is deprecated in traitlets 4.1: use observe instead\n",
      "  # This is added back by InteractiveShellApp.init_path()\n"
     ]
    },
    {
     "data": {
      "application/vnd.jupyter.widget-view+json": {
       "model_id": "8e7ef0e57b084ddf8515db46c2f15b84",
       "version_major": 2,
       "version_minor": 0
      },
      "text/plain": [
       "Dropdown(options=OrderedDict([('SciPy 2016', 'Ejh0ftSjk6g'), ('PyCon 2016', 'YgtL4S7Hrwo')]), value='Ejh0ftSjk…"
      ]
     },
     "metadata": {},
     "output_type": "display_data"
    }
   ],
   "source": [
    "from collections import OrderedDict\n",
    "from IPython.display import(display,clear_output,YouTubeVideo)\n",
    "from ipywidgets import Dropdown\n",
    "\n",
    "dw = Dropdown(options=OrderedDict([('SciPy 2016','Ejh0ftSjk6g'),('PyCon 2016','YgtL4S7Hrwo')]))\n",
    "\n",
    "def on_value_change(name,val):\n",
    "    clear_output()\n",
    "    display(YouTubeVideo(val))\n",
    "    \n",
    "    \n",
    "dw.on_trait_change(on_value_change, 'value')    \n",
    "dw.value = dw.options['SciPy 2016']\n",
    "\n",
    "display(dw)\n",
    "\n"
   ]
  }
 ],
 "metadata": {
  "kernelspec": {
   "display_name": "Python 3",
   "language": "python",
   "name": "python3"
  },
  "language_info": {
   "codemirror_mode": {
    "name": "ipython",
    "version": 3
   },
   "file_extension": ".py",
   "mimetype": "text/x-python",
   "name": "python",
   "nbconvert_exporter": "python",
   "pygments_lexer": "ipython3",
   "version": "3.6.5"
  }
 },
 "nbformat": 4,
 "nbformat_minor": 2
}
