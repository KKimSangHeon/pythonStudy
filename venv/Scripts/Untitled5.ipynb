{
 "cells": [
  {
   "cell_type": "code",
   "execution_count": 8,
   "metadata": {},
   "outputs": [
    {
     "name": "stderr",
     "output_type": "stream",
     "text": [
      "c:\\users\\7010master\\pycharmprojects\\untitled\\venv\\lib\\site-packages\\ipykernel_launcher.py:12: DeprecationWarning: on_trait_change is deprecated in traitlets 4.1: use observe instead\n",
      "  if sys.path[0] == '':\n"
     ]
    },
    {
     "data": {
      "application/vnd.jupyter.widget-view+json": {
       "model_id": "571fafe4c0e44371bf68a3a0280b0be1",
       "version_major": 2,
       "version_minor": 0
      },
      "text/plain": [
       "Dropdown(options=OrderedDict([('1', 'i0p1bmr0EmE'), ('2', 'https://youtu.be/qY22HPfafSQ')]), value='i0p1bmr0Em…"
      ]
     },
     "metadata": {},
     "output_type": "display_data"
    }
   ],
   "source": [
    "from collections import OrderedDict\n",
    "from IPython.display import(display,clear_output,YouTubeVideo)\n",
    "from ipywidgets import Dropdown\n",
    "\n",
    "dw = Dropdown(options=OrderedDict([('1','i0p1bmr0EmE'),('2','https://youtu.be/qY22HPfafSQ')]))\n",
    "\n",
    "def on_value_change(name,val):\n",
    "    clear_output()\n",
    "    display(YouTubeVideo(val))\n",
    "    \n",
    "    \n",
    "dw.on_trait_change(on_value_change, 'value')    \n",
    "dw.value = dw.options['1']\n",
    "\n",
    "display(dw)\n",
    "\n"
   ]
  },
  {
   "cell_type": "code",
   "execution_count": 11,
   "metadata": {},
   "outputs": [
    {
     "data": {
      "application/vnd.jupyter.widget-view+json": {
       "model_id": "f3bf21a892d74ace844ef82163669c48",
       "version_major": 2,
       "version_minor": 0
      },
      "text/plain": [
       "interactive(children=(IntSlider(value=5, description='x', max=10), Output()), _dom_classes=('widget-interact',…"
      ]
     },
     "metadata": {},
     "output_type": "display_data"
    }
   ],
   "source": [
    "from ipywidgets import interact\n",
    "@interact(x=(0,10))\n",
    "def square(x):\n",
    "    print(\"The square of %d is %d\"%(x,x**2))"
   ]
  },
  {
   "cell_type": "code",
   "execution_count": null,
   "metadata": {},
   "outputs": [],
   "source": [
    "from chatterbot import ChatBot\n",
    "\n",
    "chatbot = ChatBot(\n",
    "    'Mat Daymon'\n",
    ")"
   ]
  }
 ],
 "metadata": {
  "kernelspec": {
   "display_name": "Python 3",
   "language": "python",
   "name": "python3"
  },
  "language_info": {
   "codemirror_mode": {
    "name": "ipython",
    "version": 3
   },
   "file_extension": ".py",
   "mimetype": "text/x-python",
   "name": "python",
   "nbconvert_exporter": "python",
   "pygments_lexer": "ipython3",
   "version": "3.6.5"
  }
 },
 "nbformat": 4,
 "nbformat_minor": 2
}
